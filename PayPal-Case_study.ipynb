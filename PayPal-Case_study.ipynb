{
 "cells": [
  {
   "cell_type": "code",
   "execution_count": 2,
   "metadata": {},
   "outputs": [],
   "source": [
    "import pandas as pd"
   ]
  },
  {
   "cell_type": "code",
   "execution_count": 3,
   "metadata": {},
   "outputs": [],
   "source": [
    "import numpy as np"
   ]
  },
  {
   "cell_type": "code",
   "execution_count": 4,
   "metadata": {},
   "outputs": [],
   "source": [
    "data = pd.read_excel(\"C:\\\\Users\\\\akanthaliya\\\\Desktop\\\\Data-Paypal_Case.xlsx\")"
   ]
  },
  {
   "cell_type": "code",
   "execution_count": 5,
   "metadata": {
    "scrolled": true
   },
   "outputs": [
    {
     "data": {
      "text/html": [
       "<div>\n",
       "<style scoped>\n",
       "    .dataframe tbody tr th:only-of-type {\n",
       "        vertical-align: middle;\n",
       "    }\n",
       "\n",
       "    .dataframe tbody tr th {\n",
       "        vertical-align: top;\n",
       "    }\n",
       "\n",
       "    .dataframe thead th {\n",
       "        text-align: right;\n",
       "    }\n",
       "</style>\n",
       "<table border=\"1\" class=\"dataframe\">\n",
       "  <thead>\n",
       "    <tr style=\"text-align: right;\">\n",
       "      <th></th>\n",
       "      <th>match_day</th>\n",
       "      <th>name</th>\n",
       "      <th>hand</th>\n",
       "      <th>score</th>\n",
       "      <th>attempts</th>\n",
       "    </tr>\n",
       "  </thead>\n",
       "  <tbody>\n",
       "    <tr>\n",
       "      <th>0</th>\n",
       "      <td>1</td>\n",
       "      <td>Arielle</td>\n",
       "      <td>R</td>\n",
       "      <td>8</td>\n",
       "      <td>20</td>\n",
       "    </tr>\n",
       "    <tr>\n",
       "      <th>1</th>\n",
       "      <td>2</td>\n",
       "      <td>Arielle</td>\n",
       "      <td>R</td>\n",
       "      <td>10</td>\n",
       "      <td>20</td>\n",
       "    </tr>\n",
       "    <tr>\n",
       "      <th>2</th>\n",
       "      <td>3</td>\n",
       "      <td>Arielle</td>\n",
       "      <td>R</td>\n",
       "      <td>6</td>\n",
       "      <td>20</td>\n",
       "    </tr>\n",
       "    <tr>\n",
       "      <th>3</th>\n",
       "      <td>4</td>\n",
       "      <td>Arielle</td>\n",
       "      <td>L</td>\n",
       "      <td>4</td>\n",
       "      <td>20</td>\n",
       "    </tr>\n",
       "    <tr>\n",
       "      <th>4</th>\n",
       "      <td>5</td>\n",
       "      <td>Arielle</td>\n",
       "      <td>R</td>\n",
       "      <td>7</td>\n",
       "      <td>20</td>\n",
       "    </tr>\n",
       "  </tbody>\n",
       "</table>\n",
       "</div>"
      ],
      "text/plain": [
       "   match_day     name hand  score  attempts\n",
       "0          1  Arielle    R      8        20\n",
       "1          2  Arielle    R     10        20\n",
       "2          3  Arielle    R      6        20\n",
       "3          4  Arielle    L      4        20\n",
       "4          5  Arielle    R      7        20"
      ]
     },
     "execution_count": 5,
     "metadata": {},
     "output_type": "execute_result"
    }
   ],
   "source": [
    "data.head()"
   ]
  },
  {
   "cell_type": "code",
   "execution_count": 6,
   "metadata": {},
   "outputs": [],
   "source": [
    "A = data.loc[(data.name == 'Arielle')]\n",
    "B = data.loc[(data.name == 'Boris')]"
   ]
  },
  {
   "cell_type": "code",
   "execution_count": 7,
   "metadata": {},
   "outputs": [],
   "source": [
    "A_R = data[(data.name == 'Arielle') & (data.hand == 'R')]\n",
    "A_L = data[(data.name == 'Arielle') & (data.hand == 'L')]\n",
    "B_R = data[(data.name == 'Boris') & (data.hand == 'R')]\n",
    "B_L = data[(data.name == 'Boris') & (data.hand == 'L')]"
   ]
  },
  {
   "cell_type": "code",
   "execution_count": 41,
   "metadata": {
    "scrolled": true
   },
   "outputs": [
    {
     "name": "stdout",
     "output_type": "stream",
     "text": [
      "Mean of A's score 6.82\n",
      "Mean of A's right hand score 7.69\n",
      "Mean of A's left hand score 4.8\n",
      "Mean of B's score 6.76\n",
      "Mean of B's right hand score 9.27\n",
      "Mean of B's left hand score 5.69\n"
     ]
    }
   ],
   "source": [
    "print(\"Mean of A's score\",round(A['score'].mean(),2))\n",
    "print(\"Mean of A's right hand score\",round(A_R['score'].mean(),2))\n",
    "print(\"Mean of A's left hand score\",round(A_L['score'].mean(),2))\n",
    "print(\"Mean of B's score\",round(B['score'].mean(),2))\n",
    "print(\"Mean of B's right hand score\",round(B_R['score'].mean(),2))\n",
    "print(\"Mean of B's left hand score\",round(B_L['score'].mean(),2))"
   ]
  },
  {
   "cell_type": "code",
   "execution_count": 42,
   "metadata": {},
   "outputs": [
    {
     "name": "stdout",
     "output_type": "stream",
     "text": [
      "Variance of A's score 6.11\n",
      "Variance of A's right hand score 4.52\n",
      "Variance of A's left hand score 4.17\n",
      "Variance of B's score 6.92\n",
      "Variance of B's right hand score 3.07\n",
      "Variance of B's left hand score 4.75\n"
     ]
    }
   ],
   "source": [
    "print(\"Variance of A's score\",round(A['score'].var(),2))\n",
    "print(\"Variance of A's right hand score\",round(A_R['score'].var(),2))\n",
    "print(\"Variance of A's left hand score\",round(A_L['score'].var(),2))\n",
    "print(\"Variance of B's score\",round(B['score'].var(),2))\n",
    "print(\"Variance of B's right hand score\",round(B_R['score'].var(),2))\n",
    "print(\"Variance of B's left hand score\",round(B_L['score'].var(),2))"
   ]
  },
  {
   "cell_type": "markdown",
   "metadata": {},
   "source": [
    "## Checking for Normality Assumption"
   ]
  },
  {
   "cell_type": "code",
   "execution_count": 8,
   "metadata": {},
   "outputs": [],
   "source": [
    "from scipy.stats import shapiro, ttest_ind"
   ]
  },
  {
   "cell_type": "raw",
   "metadata": {},
   "source": [
    "H0: the sample has a Normal distribution.\n",
    "H1: the sample does not have a Normal distribution."
   ]
  },
  {
   "cell_type": "markdown",
   "metadata": {},
   "source": [
    "For Arielle"
   ]
  },
  {
   "cell_type": "code",
   "execution_count": 9,
   "metadata": {},
   "outputs": [
    {
     "name": "stdout",
     "output_type": "stream",
     "text": [
      "stat=0.962, p=0.111\n",
      "Normal Distribution\n"
     ]
    }
   ],
   "source": [
    "stat, p = shapiro(A['score'])\n",
    "print('stat=%.3f, p=%.3f' % (stat, p))\n",
    "if p > 0.05:\n",
    "    print('Normal Distribution')\n",
    "else:\n",
    "    print('Not Normal Distribution')"
   ]
  },
  {
   "cell_type": "code",
   "execution_count": 10,
   "metadata": {},
   "outputs": [
    {
     "name": "stdout",
     "output_type": "stream",
     "text": [
      "stat=0.952, p=0.130\n",
      "Normal Distribution\n"
     ]
    }
   ],
   "source": [
    "stat, p = shapiro(A_R['score'])\n",
    "print('stat=%.3f, p=%.3f' % (stat, p))\n",
    "if p > 0.05:\n",
    "    print('Normal Distribution')\n",
    "else:\n",
    "    print('Not Normal Distribution')"
   ]
  },
  {
   "cell_type": "code",
   "execution_count": 11,
   "metadata": {},
   "outputs": [
    {
     "name": "stdout",
     "output_type": "stream",
     "text": [
      "stat=0.949, p=0.511\n",
      "Normal Distribution\n"
     ]
    }
   ],
   "source": [
    "stat, p = shapiro(A_L['score'])\n",
    "print('stat=%.3f, p=%.3f' % (stat, p))\n",
    "if p > 0.05:\n",
    "    print('Normal Distribution')\n",
    "else:\n",
    "    print('Not Normal Distribution')"
   ]
  },
  {
   "cell_type": "markdown",
   "metadata": {},
   "source": [
    "For Boris"
   ]
  },
  {
   "cell_type": "code",
   "execution_count": 75,
   "metadata": {},
   "outputs": [
    {
     "name": "stdout",
     "output_type": "stream",
     "text": [
      "stat=0.958, p=0.071\n",
      "Normal Distribution\n"
     ]
    }
   ],
   "source": [
    "stat, p = shapiro(B['score'])\n",
    "print('stat=%.3f, p=%.3f' % (stat, p))\n",
    "if p > 0.05:\n",
    "    print('Normal Distribution')\n",
    "else:\n",
    "    print('Not Normal Distribution')"
   ]
  },
  {
   "cell_type": "code",
   "execution_count": 76,
   "metadata": {},
   "outputs": [
    {
     "name": "stdout",
     "output_type": "stream",
     "text": [
      "stat=0.947, p=0.475\n",
      "Normal Distribution\n"
     ]
    }
   ],
   "source": [
    "stat, p = shapiro(B_R['score'])\n",
    "print('stat=%.3f, p=%.3f' % (stat, p))\n",
    "if p > 0.05:\n",
    "    print('Normal Distribution')\n",
    "else:\n",
    "    print('Not Normal Distribution')"
   ]
  },
  {
   "cell_type": "code",
   "execution_count": 77,
   "metadata": {},
   "outputs": [
    {
     "name": "stdout",
     "output_type": "stream",
     "text": [
      "stat=0.955, p=0.157\n",
      "Normal Distribution\n"
     ]
    }
   ],
   "source": [
    "stat, p = shapiro(B_L['score'])\n",
    "print('stat=%.3f, p=%.3f' % (stat, p))\n",
    "if p > 0.05:\n",
    "    print('Normal Distribution')\n",
    "else:\n",
    "    print('Not Normal Distribution')"
   ]
  },
  {
   "cell_type": "markdown",
   "metadata": {},
   "source": [
    "All the sample are following the Normal distribution so we can test out test for sample mean"
   ]
  },
  {
   "cell_type": "markdown",
   "metadata": {},
   "source": [
    "# t-test to find the whethere the two samples have different mean \n",
    "    H0: the means of the samples are equal.\n",
    "    H1: the means of the samples are unequal."
   ]
  },
  {
   "cell_type": "code",
   "execution_count": 32,
   "metadata": {},
   "outputs": [
    {
     "name": "stdout",
     "output_type": "stream",
     "text": [
      "stat=0.118, p=0.907\n",
      "Probably the same distribution\n"
     ]
    }
   ],
   "source": [
    "from scipy.stats import ttest_ind\n",
    "stat, p = ttest_ind(A['score'], B['score'])\n",
    "print('stat=%.3f, p=%.3f' % (stat, p))\n",
    "if p > 0.05:\n",
    "    print('Probably the same distribution')\n",
    "else:\n",
    "    print('Probably different distributions')"
   ]
  },
  {
   "cell_type": "code",
   "execution_count": 33,
   "metadata": {},
   "outputs": [
    {
     "name": "stdout",
     "output_type": "stream",
     "text": [
      "stat=-1.341, p=0.186\n",
      "Probably the same distribution\n"
     ]
    }
   ],
   "source": [
    "from scipy.stats import ttest_ind\n",
    "stat, p = ttest_ind(A_L['score'], B_L['score'])\n",
    "print('stat=%.3f, p=%.3f' % (stat, p))\n",
    "if p > 0.05:\n",
    "    print('Probably the same distribution')\n",
    "else:\n",
    "    print('Probably different distributions')"
   ]
  },
  {
   "cell_type": "code",
   "execution_count": 34,
   "metadata": {},
   "outputs": [
    {
     "name": "stdout",
     "output_type": "stream",
     "text": [
      "stat=-2.532, p=0.015\n",
      "Probably different distributions\n"
     ]
    }
   ],
   "source": [
    "from scipy.stats import ttest_ind\n",
    "stat, p = ttest_ind(A_R['score'], B_R['score'])\n",
    "print('stat=%.3f, p=%.3f' % (stat, p))\n",
    "if p > 0.05:\n",
    "    print('Probably the same distribution')\n",
    "else:\n",
    "    print('Probably different distributions')"
   ]
  },
  {
   "cell_type": "code",
   "execution_count": 35,
   "metadata": {},
   "outputs": [
    {
     "name": "stdout",
     "output_type": "stream",
     "text": [
      "stat=-6.430, p=0.000\n",
      "Probably different distributions\n"
     ]
    }
   ],
   "source": [
    "from scipy.stats import ttest_ind\n",
    "stat, p = ttest_ind(A_L['score'], B_R['score'])\n",
    "print('stat=%.3f, p=%.3f' % (stat, p))\n",
    "if p > 0.05:\n",
    "    print('Probably the same distribution')\n",
    "else:\n",
    "    print('Probably different distributions')"
   ]
  },
  {
   "cell_type": "code",
   "execution_count": 36,
   "metadata": {},
   "outputs": [
    {
     "name": "stdout",
     "output_type": "stream",
     "text": [
      "stat=3.887, p=0.000\n",
      "Probably different distributions\n"
     ]
    }
   ],
   "source": [
    "from scipy.stats import ttest_ind\n",
    "stat, p = ttest_ind(A_R['score'], B_L['score'])\n",
    "print('stat=%.3f, p=%.3f' % (stat, p))\n",
    "if p > 0.05:\n",
    "    print('Probably the same distribution')\n",
    "else:\n",
    "    print('Probably different distributions')"
   ]
  },
  {
   "cell_type": "markdown",
   "metadata": {},
   "source": [
    "# From all the above test, we can see that there is statistical significant difference between A's Right hand and B's Right hand. \n",
    "Boris have higher mean than Arielle for the right hand flips and lower variance compared to Arielle while for left hand it's same.\n",
    "So we conclude that Boris is better flipper than Arielle"
   ]
  }
 ],
 "metadata": {
  "kernelspec": {
   "display_name": "Python 3",
   "language": "python",
   "name": "python3"
  },
  "language_info": {
   "codemirror_mode": {
    "name": "ipython",
    "version": 3
   },
   "file_extension": ".py",
   "mimetype": "text/x-python",
   "name": "python",
   "nbconvert_exporter": "python",
   "pygments_lexer": "ipython3",
   "version": "3.8.5"
  }
 },
 "nbformat": 4,
 "nbformat_minor": 4
}
